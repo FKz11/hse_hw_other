{
  "cells": [
    {
      "cell_type": "markdown",
      "metadata": {
        "id": "tb6C-TXRJTmu"
      },
      "source": [
        "### Домашня работа 2.\n",
        "### Логистическая регрессия. Работа с признаками"
      ]
    },
    {
      "cell_type": "markdown",
      "metadata": {
        "id": "8GxEyHJQJTmv"
      },
      "source": [
        "\n",
        "### Оценивание и штрафы\n",
        "Каждая из задач имеет определенную «стоимость» (указана в скобках около задачи). Максимально допустимая оценка за работу — 15 баллов. Можно получить 4.5 бонусных балла.\n",
        "\n",
        "Неэффективная реализация кода может негативно отразиться на оценке."
      ]
    },
    {
      "cell_type": "code",
      "execution_count": null,
      "metadata": {
        "colab": {
          "base_uri": "https://localhost:8080/"
        },
        "id": "455m4vxuJTmv",
        "outputId": "39038ac4-09b1-42e3-b675-ee7c9196fa76"
      },
      "outputs": [
        {
          "output_type": "stream",
          "name": "stdout",
          "text": [
            "Всем удачи!👒 Тут она точно пригодится.\n"
          ]
        }
      ],
      "source": [
        "print('Всем удачи!👒 Тут она точно пригодится.')"
      ]
    },
    {
      "cell_type": "code",
      "execution_count": null,
      "metadata": {
        "ExecuteTime": {
          "end_time": "2019-10-16T18:11:48.202066Z",
          "start_time": "2019-10-16T18:11:46.362572Z"
        },
        "colab": {
          "base_uri": "https://localhost:8080/"
        },
        "id": "a7Fs04OAJTmw",
        "outputId": "51cbea19-e4c0-4e8c-9e66-1b87d31ebf4a"
      },
      "outputs": [
        {
          "output_type": "stream",
          "name": "stdout",
          "text": [
            "Populating the interactive namespace from numpy and matplotlib\n"
          ]
        }
      ],
      "source": [
        "%pylab inline\n",
        "import pandas as pd\n",
        "\n",
        "from sklearn.datasets import make_classification\n",
        "from sklearn.model_selection import train_test_split"
      ]
    },
    {
      "cell_type": "markdown",
      "metadata": {
        "id": "ENUSnm3RJTmw"
      },
      "source": [
        "## Часть 1. Логистическая регрессия своими руками (4 балла)"
      ]
    },
    {
      "cell_type": "markdown",
      "metadata": {
        "ExecuteTime": {
          "end_time": "2018-10-12T07:36:04.765536Z",
          "start_time": "2018-10-12T07:35:57.814973Z"
        },
        "id": "Nok8TvQLJTmw"
      },
      "source": [
        "Реализуйте логистическую регрессию, обучаемую с помощью:\n",
        "\n",
        "**Задание 1 (1.5 балла). Градиентного спуска**\n",
        "\n",
        "**Задание 2 (1.5 балла). Стохастического градиентного спуска**\n",
        "\n",
        "Во всех пунктах необходимо соблюдать следующие условия:\n",
        "- Градиентный спуск необходимо записать в векторном виде\n",
        "- Циклы средствами python допускается использовать только для итераций градиентного спуска;\n",
        "- В качестве критерия останова необходимо использовать (одновременно):\n",
        "\n",
        "        проверку на евклидову норму разности весов на двух соседних итерациях (например, меньше некоторого малого числа порядка $10^{-6}$) задаваемого параметром `tolerance`;\n",
        "\n",
        "\n",
        "        достижение максимального числа итераций (например, 10000), задаваемого параметром `max_iter`.\n",
        "\n",
        "Чтобы проследить, что оптимизационный процесс действительно сходится, будем использовать атрибут класса loss_history. В нём после вызова метода fit должны содержаться значения функции потерь для всех итераций, начиная с первой (до совершения первого шага по антиградиенту);\n",
        "\n",
        "Инициализировать веса можно случайным образом или нулевым вектором."
      ]
    },
    {
      "cell_type": "markdown",
      "metadata": {
        "id": "021mcA4yJTmw"
      },
      "source": [
        "Полезно [почитать](https://scikit-learn.org/stable/developers/develop.html)."
      ]
    },
    {
      "cell_type": "code",
      "execution_count": null,
      "metadata": {
        "ExecuteTime": {
          "end_time": "2019-10-16T18:11:50.932537Z",
          "start_time": "2019-10-16T18:11:50.752839Z"
        },
        "id": "GjtA92EQJTmw"
      },
      "outputs": [],
      "source": [
        "import numpy as np\n",
        "from sklearn.base import BaseEstimator\n",
        "\n",
        "class LogReg(BaseEstimator):\n",
        "    def __init__(self, gd_type='stochastic',\n",
        "                 tolerance=1e-4, max_iter=1000, w0=None, eta=1e-2):\n",
        "        \"\"\"\n",
        "        gd_type: 'full' or 'stochastic'\n",
        "        tolerance: for stopping gradient descent\n",
        "        max_iter: maximum number of steps in gradient descent\n",
        "        w0: np.array of shape (d) — init weights\n",
        "        eta: learning rate\n",
        "        \"\"\"\n",
        "        self.gd_type = gd_type\n",
        "        self.tolerance = tolerance\n",
        "        self.max_iter = max_iter\n",
        "        self.w0 = w0\n",
        "        self.w = None\n",
        "        self.eta = eta\n",
        "        self.loss_history = None # list of loss function values at each training iteration\n",
        "\n",
        "    def fit(self, X, y):\n",
        "        \"\"\"\n",
        "        X: np.array of shape (ell, d)\n",
        "        y: np.array of shape (ell)\n",
        "        ---\n",
        "        output: self\n",
        "        \"\"\"\n",
        "        self.loss_history = []\n",
        "        if self.w is None:\n",
        "          self.w = self.w0.copy()\n",
        "        last_w = self.w.copy()\n",
        "        if self.gd_type == 'stochastic':\n",
        "          len_X = len(X)\n",
        "          for i in range(self.max_iter):\n",
        "            index = np.random.randint(len_X)\n",
        "            X_index = X.loc[[index]]\n",
        "            y_index = y[[index]]\n",
        "            self.w -= self.eta*self.calc_gradient(X_index, y_index)\n",
        "            self.loss_history.append(self.calc_loss(X_index, y_index))\n",
        "            if (((self.w - last_w)**2).sum())**(1/2) < self.tolerance:\n",
        "              break\n",
        "            last_w = self.w.copy()\n",
        "        elif self.gd_type == 'full':\n",
        "          for i in range(self.max_iter):\n",
        "            self.w -= self.eta*self.calc_gradient(X, y)\n",
        "            self.loss_history.append(self.calc_loss(X, y))\n",
        "            if (((self.w - last_w)**2).sum())**(1/2) < self.tolerance:\n",
        "              break\n",
        "            last_w = self.w.copy()\n",
        "        return self\n",
        "\n",
        "\n",
        "    def predict_proba(self, X):\n",
        "        if self.w is None:\n",
        "            raise Exception('Not trained yet')\n",
        "        return 1/(1+np.exp(-(X@self.w)))\n",
        "\n",
        "\n",
        "    def predict(self, X):\n",
        "        if self.w is None:\n",
        "            raise Exception('Not trained yet')\n",
        "        return (self.predict_proba(X) > 0.5).astype(int)\n",
        "\n",
        "    def calc_gradient(self, X, y):\n",
        "        \"\"\"\n",
        "        X: np.array of shape (ell, d) (ell can be equal to 1 if stochastic)\n",
        "        y: np.array of shape (ell)\n",
        "        ---\n",
        "        output: np.array of shape (d)\n",
        "        \"\"\"\n",
        "        return X.T@(self.predict_proba(X)-y)/len(y)\n",
        "\n",
        "    def calc_loss(self, X, y):\n",
        "        \"\"\"\n",
        "        X: np.array of shape (ell, d)\n",
        "        y: np.array of shape (ell)\n",
        "        ---\n",
        "        output: float\n",
        "        \"\"\"\n",
        "        prob = self.predict_proba(X)\n",
        "        return -(y@np.log(prob) + (1-y)@np.log(1-prob))/len(y)"
      ]
    },
    {
      "cell_type": "markdown",
      "metadata": {
        "id": "C2ZZi2N8JTmx"
      },
      "source": [
        "Синтетические данные"
      ]
    },
    {
      "cell_type": "code",
      "execution_count": null,
      "metadata": {
        "id": "O62f6saJJTmx",
        "outputId": "1144913c-2252-4e4a-9396-0bd71d7914cd",
        "colab": {
          "base_uri": "https://localhost:8080/"
        }
      },
      "outputs": [
        {
          "output_type": "stream",
          "name": "stdout",
          "text": [
            "Populating the interactive namespace from numpy and matplotlib\n"
          ]
        }
      ],
      "source": [
        "%pylab inline\n",
        "import pandas as pd\n",
        "\n",
        "from sklearn.datasets import make_classification\n",
        "from sklearn.model_selection import train_test_split"
      ]
    },
    {
      "cell_type": "code",
      "execution_count": null,
      "metadata": {
        "id": "1iZjtwk-JTmx"
      },
      "outputs": [],
      "source": [
        "X, y = make_classification(\n",
        "    n_samples=100000, n_features=20, n_informative=10, n_redundant=10,\n",
        "    random_state=42)\n",
        "\n",
        "X_train, X_test, y_train, y_test = train_test_split(\n",
        "    X, y, test_size=0.3, random_state=42)"
      ]
    },
    {
      "cell_type": "markdown",
      "metadata": {
        "id": "hoImX-LGJTmx"
      },
      "source": [
        "**Важно:** далее предполагается, что вы используете собственную реализацию логистической регрессии.\n",
        "Если с написанием класса возникли проблемы, используйте реализацию sklearn, чтобы не терять баллы за остальные задания."
      ]
    },
    {
      "cell_type": "markdown",
      "metadata": {
        "id": "Tsy50ZwYJTmx"
      },
      "source": [
        "**Задание 3 (1 балл)**\n",
        "\n",
        "Обучите логистическую регрессию на синтетических данных."
      ]
    },
    {
      "cell_type": "code",
      "execution_count": null,
      "metadata": {
        "ExecuteTime": {
          "end_time": "2018-10-11T20:39:43.088969Z",
          "start_time": "2018-10-11T20:39:43.084985Z"
        },
        "id": "_HCpoyz1JTmx",
        "colab": {
          "base_uri": "https://localhost:8080/",
          "height": 472
        },
        "outputId": "81c9fda3-de53-4ee2-ed45-3a8b24b1c184"
      },
      "outputs": [
        {
          "output_type": "display_data",
          "data": {
            "text/plain": [
              "<Figure size 640x480 with 1 Axes>"
            ],
            "image/png": "[encoded data removed]"
          },
          "metadata": {}
        }
      ],
      "source": [
        "import matplotlib.pyplot as plt\n",
        "\n",
        "log_reg = LogReg(gd_type='full', tolerance=1e-4, max_iter=1000, w0=np.random.random(X_train.shape[1])-0.5, eta=1e-2)\n",
        "log_reg.fit(X_train, y_train)\n",
        "plt.plot(log_reg.loss_history)\n",
        "plt.title('Обучение логистической регрессии')\n",
        "plt.xlabel('Итерация')\n",
        "plt.ylabel('Ошибка')\n",
        "plt.show()"
      ]
    },
    {
      "cell_type": "markdown",
      "metadata": {
        "id": "NeQ87_AyJTmy"
      },
      "source": [
        "На тестовой части посчитайте ROC-AUC, PR-AUC. Постройте ROC и PR кривые. Проинтерпретируйте результат."
      ]
    },
    {
      "cell_type": "code",
      "execution_count": null,
      "metadata": {
        "id": "5R07_b9uJTmy",
        "colab": {
          "base_uri": "https://localhost:8080/",
          "height": 979
        },
        "outputId": "1a951299-2ef4-439a-c46a-3e838b58d13d"
      },
      "outputs": [
        {
          "output_type": "display_data",
          "data": {
            "text/plain": [
              "<Figure size 640x480 with 1 Axes>"
            ],
            "image/png": "[encoded data removed]"
          },
          "metadata": {}
        },
        {
          "output_type": "stream",
          "name": "stdout",
          "text": [
            "ROC-AUC: 0.9257392656333314\n",
            "\n"
          ]
        },
        {
          "output_type": "display_data",
          "data": {
            "text/plain": [
              "<Figure size 640x480 with 1 Axes>"
            ],
            "image/png": "[encoded data removed]"
          },
          "metadata": {}
        },
        {
          "output_type": "stream",
          "name": "stdout",
          "text": [
            "PR-AUC: 0.9241343396621559\n"
          ]
        }
      ],
      "source": [
        "from sklearn.metrics import roc_curve, precision_recall_curve, auc\n",
        "\n",
        "pred = log_reg.predict_proba(X_test)\n",
        "fpr, tpr, thresholds = roc_curve(y_test+1, pred, pos_label=2)\n",
        "plt.plot(fpr, tpr)\n",
        "plt.plot([0, 1], [0, 1],'r--')\n",
        "plt.title('ROC кривая')\n",
        "plt.xlabel('FPR')\n",
        "plt.ylabel('TPR')\n",
        "plt.show()\n",
        "print(f'ROC-AUC: {auc(fpr, tpr)}')\n",
        "print()\n",
        "precision, recall, thresholds = precision_recall_curve(y_test+1, pred, pos_label=2)\n",
        "plt.plot(recall, precision)\n",
        "plt.title('PR кривая')\n",
        "plt.xlabel('recall')\n",
        "plt.ylabel('precision')\n",
        "plt.show()\n",
        "print(f'PR-AUC: {auc(recall, precision)}')"
      ]
    },
    {
      "cell_type": "markdown",
      "source": [
        "*ROC AUC и PR AUC одинаково хорошие, так как предсказываемые классы сбалансированны. Если бы был дизбаланс классов, то метркии бы заметно отличались. Выбор ключевой метрики зависит от задачи. В среднем стоит ориентировать на ROC AUC, но при дизбалансе классов возможно стоит расмотреть PR AUC.*"
      ],
      "metadata": {
        "id": "3YBBEYs3t6jo"
      }
    },
    {
      "cell_type": "markdown",
      "metadata": {
        "id": "C1t7_rqoJTmy"
      },
      "source": [
        "## Часть 2. Работа с категориальными переменными (3 балла)"
      ]
    },
    {
      "cell_type": "markdown",
      "metadata": {
        "id": "iolRo9jUJTmy"
      },
      "source": [
        "В этой части мы научимся обрабатывать категориальные переменные, так как закодировать их в виде чисел недостаточно (это задаёт некоторый порядок, которого на категориальных переменных может и не быть). Существует два основных способа обработки категориальных значений:\n",
        "- One-hot-кодирование\n",
        "- Счётчики (CTR, mean-target кодирование, ...) — каждый категориальный признак заменяется на среднее значение целевой переменной по всем объектам, имеющим одинаковое значение в этом признаке.\n",
        "\n",
        "Начнём с one-hot-кодирования. Допустим наш категориальный признак $f_j(x)$ принимает значения из множества $C=\\{c_1, \\dots, c_m\\}$. Заменим его на $m$ бинарных признаков $b_1(x), \\dots, b_m(x)$, каждый из которых является индикатором одного из возможных категориальных значений:\n",
        "$$\n",
        "b_i(x) = [f_j(x) = c_i]\n",
        "$$"
      ]
    },
    {
      "cell_type": "markdown",
      "metadata": {
        "ExecuteTime": {
          "end_time": "2018-10-11T20:41:54.913436Z",
          "start_time": "2018-10-11T20:41:54.907515Z"
        },
        "id": "edlQNzmCJTmy"
      },
      "source": [
        "__Подготовка данных.__\n",
        "\n",
        "Загрузим данные с конкурса  [Kaggle Porto Seguro’s Safe Driver Prediction](https://www.kaggle.com/c/porto-seguro-safe-driver-prediction) (вам нужна только обучающая выборка). Задача состоит в определении водителей, которые в ближайший год воспользуются своей автомобильной страховкой (бинарная классификация). Но для нас важна будет не сама задача, а только её данные. При этом для задания мы немного модифицируем датасет."
      ]
    },
    {
      "cell_type": "code",
      "source": [
        "!unzip train.csv"
      ],
      "metadata": {
        "colab": {
          "base_uri": "https://localhost:8080/"
        },
        "id": "GUWOBcA6EMGe",
        "outputId": "d3b85dbf-d3c2-43ed-cf42-d64a45b117e6"
      },
      "execution_count": null,
      "outputs": [
        {
          "output_type": "stream",
          "name": "stdout",
          "text": [
            "Archive:  train.csv.zip\n",
            "  inflating: train.csv               \n"
          ]
        }
      ]
    },
    {
      "cell_type": "code",
      "execution_count": null,
      "metadata": {
        "ExecuteTime": {
          "end_time": "2018-10-12T07:36:04.765536Z",
          "start_time": "2018-10-12T07:35:57.814973Z"
        },
        "id": "YNjjunz2JTmy"
      },
      "outputs": [],
      "source": [
        "data = pd.read_csv('train.csv', index_col=0)\n",
        "target = data.target.values\n",
        "data = data.drop('target', axis=1)"
      ]
    },
    {
      "cell_type": "markdown",
      "metadata": {
        "id": "Af0HVB6TJTmy"
      },
      "source": [
        "Пересемплируем выборку так, чтобы положительных и отрицательных объектов в выборке было одинаковое число. Разделим на обучающую и тестовую выборки.\n"
      ]
    },
    {
      "cell_type": "code",
      "execution_count": null,
      "metadata": {
        "ExecuteTime": {
          "end_time": "2018-10-12T07:36:05.368407Z",
          "start_time": "2018-10-12T07:36:04.770388Z"
        },
        "id": "avsUa7LCJTmy"
      },
      "outputs": [],
      "source": [
        "# some resampling\n",
        "np.random.seed(910)\n",
        "mask_plus = np.random.choice(np.where(target == 1)[0], 100000, replace=True)\n",
        "mask_zero = np.random.choice(np.where(target == 0)[0], 100000, replace=True)\n",
        "\n",
        "data = pd.concat((data.iloc[mask_plus], data.iloc[mask_zero]))\n",
        "target = np.hstack((target[mask_plus], target[mask_zero]))\n",
        "\n",
        "X_train, X_test, y_train, y_test = train_test_split(data, target, test_size=0.5)"
      ]
    },
    {
      "cell_type": "markdown",
      "metadata": {
        "id": "YSFywmGoJTmy"
      },
      "source": [
        "**Задание 5 (0 баллов).** Посчитайте качество (в этом задании будем работать c ROC-AUC) на исходных признаках при применении логистической регрессии."
      ]
    },
    {
      "cell_type": "code",
      "source": [
        "from sklearn.linear_model import LogisticRegression\n",
        "\n",
        "X_train = X_train.reset_index(drop=True)\n",
        "X_test = X_test.reset_index(drop=True)"
      ],
      "metadata": {
        "id": "Kf1ZpEzkZoin"
      },
      "execution_count": null,
      "outputs": []
    },
    {
      "cell_type": "code",
      "source": [
        "%%time\n",
        "\n",
        "from sklearn.metrics import roc_auc_score\n",
        "\n",
        "log_reg = LogisticRegression(penalty=None, max_iter=5000)\n",
        "log_reg.fit(X_train, y_train)\n",
        "pred = log_reg.predict_proba(X_test)[:,1]\n",
        "print(f'ROC-AUC на исходных признаках: {roc_auc_score(y_test, pred)}')"
      ],
      "metadata": {
        "id": "eXoUwpkEaA5D",
        "colab": {
          "base_uri": "https://localhost:8080/"
        },
        "outputId": "d71033b3-75f3-4d37-98cd-9558dc744069"
      },
      "execution_count": null,
      "outputs": [
        {
          "output_type": "stream",
          "name": "stdout",
          "text": [
            "ROC-AUC на исходных признаках: 0.6251083714015606\n",
            "CPU times: user 30.2 s, sys: 8.73 s, total: 39 s\n",
            "Wall time: 24.2 s\n"
          ]
        }
      ]
    },
    {
      "cell_type": "markdown",
      "metadata": {
        "id": "L-bUC0IyJTmy"
      },
      "source": [
        "**Задание 6 (0.5 балла).** Закодируйте все категориальные признаки с помощью one-hot-кодирования. Обучите логистическую регрессию и посмотрите, как изменилось качество модели (с тем, что было до кодирования). Измерьте время, потребовавшееся на обучение модели."
      ]
    },
    {
      "cell_type": "code",
      "execution_count": null,
      "metadata": {
        "id": "WQLdhGSgJTmy",
        "colab": {
          "base_uri": "https://localhost:8080/"
        },
        "outputId": "c43b50d7-4d9a-4596-9d22-bcfd7dcde519"
      },
      "outputs": [
        {
          "output_type": "stream",
          "name": "stdout",
          "text": [
            "Количество исходных признаков: 57\n",
            "Количество признаков с ohe: 212\n"
          ]
        }
      ],
      "source": [
        "from sklearn.preprocessing import OneHotEncoder\n",
        "\n",
        "print(f'Количество исходных признаков: {X_train.shape[1]}')\n",
        "cat_list = [column for column in X_train.columns if column[-3:] == 'cat']\n",
        "ohe = OneHotEncoder(drop='first', sparse_output=False, handle_unknown='ignore')\n",
        "ohe.fit(X_train[cat_list])\n",
        "X_train_ohe = pd.concat([X_train.drop(cat_list, axis=1),\n",
        "                         pd.DataFrame(ohe.transform(X_train[cat_list]), columns=ohe.get_feature_names_out())], axis=1)\n",
        "X_test_ohe = pd.concat([X_test.drop(cat_list, axis=1),\n",
        "                         pd.DataFrame(ohe.transform(X_test[cat_list]), columns=ohe.get_feature_names_out())], axis=1)\n",
        "print(f'Количество признаков с ohe: {X_train_ohe.shape[1]}')"
      ]
    },
    {
      "cell_type": "code",
      "source": [
        "%%time\n",
        "\n",
        "log_reg = LogisticRegression(penalty=None, max_iter=5000)\n",
        "log_reg.fit(X_train_ohe, y_train)\n",
        "pred = log_reg.predict_proba(X_test_ohe)[:,1]\n",
        "print(f'ROC-AUC на ohe признаках: {roc_auc_score(y_test, pred)}')"
      ],
      "metadata": {
        "id": "nrO2tXZMHWar",
        "colab": {
          "base_uri": "https://localhost:8080/"
        },
        "outputId": "6a591036-c0b5-47e5-f323-46cc01a0e822"
      },
      "execution_count": null,
      "outputs": [
        {
          "output_type": "stream",
          "name": "stdout",
          "text": [
            "ROC-AUC на ohe признаках: 0.6328296711127472\n",
            "CPU times: user 1min 37s, sys: 12.6 s, total: 1min 49s\n",
            "Wall time: 1min 4s\n"
          ]
        }
      ]
    },
    {
      "cell_type": "markdown",
      "source": [
        "*Качество модели выросло на 0.007 по ROC-AUC, количество признаков увеличилсоь в 4 раза, время обучения выросло в 2 раза*"
      ],
      "metadata": {
        "id": "kqPNgN2vMXn9"
      }
    },
    {
      "cell_type": "markdown",
      "metadata": {
        "id": "eiptkkC4JTmy"
      },
      "source": [
        "Как можно было заменить, one-hot-кодирование сильно увилечивает количество признаков в датасете, что сказывается на памяти, особенно, если некоторый признак имеет большое количество значений. Эту проблему решает другой способ кодирование категориальных признаков — счётчики. Основная идея в том, что нам важны не сами категории, а значения целевой переменной, которые имеют объекты этой категории. Каждый категориальный признак мы заменим средним значением целевой переменной по всем объектам этой же категории:\n",
        "$$\n",
        "g_j(x, X) = \\frac{\\sum_{i=1}^{l} [f_j(x) = f_j(x_i)][y_i = +1]}{\\sum_{i=1}^{l} [f_j(x) = f_j(x_i)]}\n",
        "$$\n",
        "\n",
        "__Задание 7 (1.5 балла).__ Закодируйте категориальные переменные с помощью счётчиков (ровно так, как описано выше, без каких-либо хитростей). Обучите логистическую регрессию и посмотрите на качество модели на тестовом множестве. Сравните время обучения с предыдущим экспериментом. Заметили ли вы что-то интересное?\n"
      ]
    },
    {
      "cell_type": "code",
      "execution_count": null,
      "metadata": {
        "id": "Z95XRbDDJTmy"
      },
      "outputs": [],
      "source": [
        "X_train_te = X_train.copy()\n",
        "X_test_te = X_test.copy()\n",
        "for cat in cat_list:\n",
        "  mean_target_dict = {val:y_train[X_train[cat]==val].mean() for val in X_train[cat].unique()}\n",
        "  X_train_te[cat] = X_train[cat].apply(lambda val: mean_target_dict[val])\n",
        "  X_test_te[cat] = X_train[cat].apply(lambda val: mean_target_dict[val])"
      ]
    },
    {
      "cell_type": "code",
      "source": [
        "%%time\n",
        "\n",
        "log_reg = LogisticRegression(penalty=None, max_iter=5000)\n",
        "log_reg.fit(X_train_te, y_train)\n",
        "pred = log_reg.predict_proba(X_test_te)[:,1]\n",
        "print(f'ROC-AUC на счётчиках: {roc_auc_score(y_test, pred)}')"
      ],
      "metadata": {
        "id": "k9BYiaLkQPl6",
        "colab": {
          "base_uri": "https://localhost:8080/"
        },
        "outputId": "b2613a0a-33e5-4106-eac8-a1f32ed7f437"
      },
      "execution_count": null,
      "outputs": [
        {
          "output_type": "stream",
          "name": "stdout",
          "text": [
            "ROC-AUC на счётчиках: 0.5776829491186344\n",
            "CPU times: user 49.1 s, sys: 14.1 s, total: 1min 3s\n",
            "Wall time: 38.6 s\n"
          ]
        }
      ]
    },
    {
      "cell_type": "markdown",
      "source": [
        "*Время обучения в 2 раза меньше, так как в 4 раза меньше признаков, весов. Интересное: качество модели заметно упало, так как модель переобучилась на счётчиках*"
      ],
      "metadata": {
        "id": "3ZofqBANfR8W"
      }
    },
    {
      "cell_type": "markdown",
      "metadata": {
        "id": "27O1YTtoJTmy"
      },
      "source": [
        "Отметим, что такие признаки сами по себе являются классификаторами и, обучаясь на них, мы допускаем \"утечку\" целевой переменной в признаки. Это ведёт к переобучению, поэтому считать такие признаки необходимо так, чтобы при вычислении для конкретного объекта его целевая метка не использовалась. Это можно делать следующими способами:\n",
        "1. Вычислять значение счётчика по всем объектам расположенным выше в датасете (например, если у нас выборка отсортирована по времени).\n",
        "2. Вычислять по фолдам, то есть делить выборку на некоторое количество частей и подсчитывать значение признаков по всем фолдам кроме текущего (как делается в кросс-валидации).\n",
        "3. Внесение некоторого шума в посчитанные признаки.\n",
        "\n",
        "__Задание 8 (1 балл)__. Реализуйте корректное вычисление счётчиков самым простым способом — добавление шума к значениям (необходимо соблюсти баланс между избавление от переобучения и полезностью признаков). Снова обучите логистическую регрессию, оцените качество. Сделайте выводы.\n"
      ]
    },
    {
      "cell_type": "code",
      "execution_count": null,
      "metadata": {
        "id": "ERQDfSP3JTmy"
      },
      "outputs": [],
      "source": [
        "X_train_te_noise = X_train.copy()\n",
        "X_test_te_noise = X_test.copy()\n",
        "for cat in cat_list:\n",
        "  mean_target_dict = {val:y_train[X_train[cat]==val].mean()+(np.random.rand()-0.5)*1 for val in X_train[cat].unique()}\n",
        "  X_train_te_noise[cat] = X_train[cat].apply(lambda val: mean_target_dict[val])\n",
        "  X_test_te_noise[cat] = X_train[cat].apply(lambda val: mean_target_dict[val])"
      ]
    },
    {
      "cell_type": "code",
      "source": [
        "log_reg = LogisticRegression(penalty=None, max_iter=5000)\n",
        "log_reg.fit(X_train_te_noise, y_train)\n",
        "pred = log_reg.predict_proba(X_test_te_noise)[:,1]\n",
        "print(f'ROC-AUC на счётчиках с шумом: {roc_auc_score(y_test, pred)}')"
      ],
      "metadata": {
        "id": "6JXXfJqfebXQ",
        "colab": {
          "base_uri": "https://localhost:8080/"
        },
        "outputId": "0c231467-db06-4412-9e1d-8de044b23b53"
      },
      "execution_count": null,
      "outputs": [
        {
          "output_type": "stream",
          "name": "stdout",
          "text": [
            "ROC-AUC на счётчиках с шумом: 0.5994014246313806\n"
          ]
        }
      ]
    },
    {
      "cell_type": "markdown",
      "source": [
        "*Качество заметно хуже по сравнению с изначальной моделью при разных параметрах шума, при низком шуме следует переобучение, при высоком шуме теряется информация признаков, значит этот тип кодирования не подходит для данной задачи*"
      ],
      "metadata": {
        "id": "d_uWAUv7g_lU"
      }
    },
    {
      "cell_type": "markdown",
      "metadata": {
        "id": "VshKrqfUJTmy"
      },
      "source": [
        "## Часть 3. Отбор признаков (3 балла + 1 бонус)"
      ]
    },
    {
      "cell_type": "markdown",
      "metadata": {
        "id": "qavmJhMSJTmz"
      },
      "source": [
        "Важной частью процесса построения модели является отбор признаков. На практике многие признаки оказывают малое влияние на модель (при этом они увеличивают время вычислений) или даже негативно сказываются на качестве модели. Попробуем несколько подходов отбора признаков, оценим, как они влияют на качество модели и сколько времени занимают.\n",
        "\n",
        "Обратимся к тому же датасету про обращение клиентов по страховым случаям. Обойдёмся без сэмплирования объектов."
      ]
    },
    {
      "cell_type": "code",
      "execution_count": null,
      "metadata": {
        "ExecuteTime": {
          "end_time": "2018-10-12T07:36:04.765536Z",
          "start_time": "2018-10-12T07:35:57.814973Z"
        },
        "id": "QS0AEvNsJTmz"
      },
      "outputs": [],
      "source": [
        "data = pd.read_csv('train.csv', index_col=0)\n",
        "target = data.target.values\n",
        "data = data.drop('target', axis=1)\n",
        "X_train, X_test, y_train, y_test = train_test_split(data, target, test_size=0.2, random_state=124)"
      ]
    },
    {
      "cell_type": "markdown",
      "metadata": {
        "id": "va0twJQfJTmz"
      },
      "source": [
        "Как вы помните, в данных много категориальных признаков. Давайте закодируем их с помощью one-hot кодирования. Исходные колонки с категориальными признаками можно удалить. Сколько признаков мы получили?"
      ]
    },
    {
      "cell_type": "code",
      "source": [
        "X_train = X_train.reset_index(drop=True)\n",
        "X_test = X_test.reset_index(drop=True)"
      ],
      "metadata": {
        "id": "XiXKdbwzjShe"
      },
      "execution_count": null,
      "outputs": []
    },
    {
      "cell_type": "code",
      "execution_count": null,
      "metadata": {
        "id": "Up6taYHEJTmz",
        "colab": {
          "base_uri": "https://localhost:8080/"
        },
        "outputId": "c14c9080-91a0-4fff-cfa4-eeb7e8ee344a"
      },
      "outputs": [
        {
          "output_type": "stream",
          "name": "stdout",
          "text": [
            "Количество исходных признаков: 57\n",
            "Количество признаков с ohe: 213\n"
          ]
        }
      ],
      "source": [
        "print(f'Количество исходных признаков: {X_train.shape[1]}')\n",
        "cat_list = [column for column in X_train.columns if column[-3:] == 'cat']\n",
        "ohe = OneHotEncoder(drop='first', sparse_output=False, handle_unknown='ignore')\n",
        "ohe.fit(X_train[cat_list])\n",
        "X_train = pd.concat([X_train.drop(cat_list, axis=1),\n",
        "                         pd.DataFrame(ohe.transform(X_train[cat_list]), columns=ohe.get_feature_names_out())], axis=1)\n",
        "X_test = pd.concat([X_test.drop(cat_list, axis=1),\n",
        "                         pd.DataFrame(ohe.transform(X_test[cat_list]), columns=ohe.get_feature_names_out())], axis=1)\n",
        "print(f'Количество признаков с ohe: {X_train.shape[1]}')"
      ]
    },
    {
      "cell_type": "markdown",
      "metadata": {
        "id": "ItRJw8eEJTmz"
      },
      "source": [
        "В качестве основной модели будем использовать логистическую регрессию, а целевой метрики — ROC-AUC. Обучите модель и посчитайте качество на тестовой выборке. Давайте запомним полученное значение."
      ]
    },
    {
      "cell_type": "code",
      "execution_count": null,
      "metadata": {
        "id": "Xo5VVkMPJTmz",
        "colab": {
          "base_uri": "https://localhost:8080/"
        },
        "outputId": "c2676f88-2c0e-4e85-acec-5427faf73156"
      },
      "outputs": [
        {
          "output_type": "stream",
          "name": "stdout",
          "text": [
            "ROC-AUC: 0.6378843906294456\n",
            "CPU times: user 6min 34s, sys: 49.4 s, total: 7min 23s\n",
            "Wall time: 5min 16s\n"
          ]
        }
      ],
      "source": [
        "%%time\n",
        "\n",
        "log_reg = LogisticRegression(penalty=None, max_iter=5000)\n",
        "log_reg.fit(X_train, y_train)\n",
        "pred = log_reg.predict_proba(X_test)[:,1]\n",
        "print(f'ROC-AUC: {roc_auc_score(y_test, pred)}')"
      ]
    },
    {
      "cell_type": "markdown",
      "metadata": {
        "id": "_tZdhj8hJTmz"
      },
      "source": [
        "### Встроенные методы"
      ]
    },
    {
      "cell_type": "markdown",
      "metadata": {
        "id": "Zzfqf-8bJTmz"
      },
      "source": [
        "Допустим, мы хотим оставить только 200 лучших признаков. Попробуем сделать это несколькими способами.\n",
        "\n",
        "Начнём с отборам признаков с помощью линейной модели. Как известно, веса линейной модели означают вклад каждого признака в предсказание модели, а значит, модуль этого вклада можно интерпретировать как важность признаков. Такой метод отбора называются встроенным или embedded methods, так как он заложен в особенности модели.\n",
        "\n",
        "__Задание 10 (1 балл).__ Оставьте 200 признаков с наибольшим модулем соответсвующего параметра линейной модели. Обучите модели заново и оцените её качество. Замерьте скорость такого отбора признаков.\n",
        "\n",
        "Изменилось ли качество? Как?"
      ]
    },
    {
      "cell_type": "code",
      "execution_count": null,
      "metadata": {
        "id": "Qwl4Y_-LJTmz",
        "colab": {
          "base_uri": "https://localhost:8080/"
        },
        "outputId": "d9d828d1-6bdb-460b-8740-4b61e91030be"
      },
      "outputs": [
        {
          "output_type": "stream",
          "name": "stdout",
          "text": [
            "CPU times: user 23.1 ms, sys: 14.5 ms, total: 37.6 ms\n",
            "Wall time: 19.5 ms\n"
          ]
        },
        {
          "output_type": "execute_result",
          "data": {
            "text/plain": [
              "200"
            ]
          },
          "metadata": {},
          "execution_count": 104
        }
      ],
      "source": [
        "%%time\n",
        "\n",
        "strong_feature_list = X_train.columns[[abs(coef)>sorted(abs(log_reg.coef_[0]), reverse=True)[200] for coef in log_reg.coef_[0]]]\n",
        "len(strong_feature_list)"
      ]
    },
    {
      "cell_type": "code",
      "source": [
        "log_reg = LogisticRegression(penalty=None, max_iter=5000)\n",
        "log_reg.fit(X_train[strong_feature_list], y_train)\n",
        "pred = log_reg.predict_proba(X_test[strong_feature_list])[:,1]\n",
        "print(f'ROC-AUC: {roc_auc_score(y_test, pred)}')"
      ],
      "metadata": {
        "colab": {
          "base_uri": "https://localhost:8080/"
        },
        "id": "CXiteOkUrOCe",
        "outputId": "d9901a50-3404-4e95-8961-69930fc98cfa"
      },
      "execution_count": null,
      "outputs": [
        {
          "output_type": "stream",
          "name": "stdout",
          "text": [
            "ROC-AUC: 0.6379779950511038\n"
          ]
        }
      ]
    },
    {
      "cell_type": "markdown",
      "source": [
        "*Скорость такого отбора признаков складывается из времени обучения модели на всех признаках и времени отбора: 5мин 16с + 0.02с. Качество выросло, но слабо, метрика ROC-AUC увеличилась всего на 0.0001*"
      ],
      "metadata": {
        "id": "dnQ1otTVvW8F"
      }
    },
    {
      "cell_type": "markdown",
      "metadata": {
        "id": "P7g1rmtnJTmz"
      },
      "source": [
        "А теперь давайте подумаем, что мы не учли. Мы предположили, что признаки вносят вклад равномерно, но не учли их масштаба. Если мы умножим один из признаков в 100 раз, то без учёта регуляризации его вес уменьшится в эти же 100 раз. А мы на основе этого отбираем признаки! Давайте сначала отнормируем признаки одним из способов, а только потом будем удалять признаки.\n",
        "\n",
        "Кстати, в таком случае надо пересчитать качество на всех признаках (сделайте это ниже). Если вы сделали нормирование признаков в самом начале, то попробуйте отобрать признаки на неотмасштабированных данных.\n",
        "\n",
        "Что получилось?"
      ]
    },
    {
      "cell_type": "code",
      "execution_count": null,
      "metadata": {
        "id": "Bl2MOZxLJTmz"
      },
      "outputs": [],
      "source": [
        "from sklearn.preprocessing import StandardScaler\n",
        "\n",
        "scaler = StandardScaler()\n",
        "scaler.fit(X_train)\n",
        "\n",
        "X_train_norm = pd.DataFrame(scaler.transform(X_train), index=X_train.index, columns=X_train.columns)\n",
        "X_test_norm = pd.DataFrame(scaler.transform(X_test), index=X_test.index, columns=X_test.columns)"
      ]
    },
    {
      "cell_type": "code",
      "source": [
        "log_reg = LogisticRegression(penalty=None, max_iter=5000)\n",
        "log_reg.fit(X_train_norm, y_train)\n",
        "pred = log_reg.predict_proba(X_test_norm)[:,1]\n",
        "print(f'ROC-AUC: {roc_auc_score(y_test, pred)}')"
      ],
      "metadata": {
        "colab": {
          "base_uri": "https://localhost:8080/"
        },
        "id": "NpIGNhABtEf5",
        "outputId": "dbcd003a-ded3-4a22-8f8f-153ffdc92064"
      },
      "execution_count": null,
      "outputs": [
        {
          "output_type": "stream",
          "name": "stdout",
          "text": [
            "ROC-AUC: 0.638060837213553\n"
          ]
        }
      ]
    },
    {
      "cell_type": "code",
      "source": [
        "strong_feature_list = X_train_norm.columns[[abs(coef)>sorted(abs(log_reg.coef_[0]), reverse=True)[200] for coef in log_reg.coef_[0]]]\n",
        "len(strong_feature_list)"
      ],
      "metadata": {
        "colab": {
          "base_uri": "https://localhost:8080/"
        },
        "id": "w1MKXEn0tLrz",
        "outputId": "35977f2b-78f7-4023-a0e0-59fdb8797f44"
      },
      "execution_count": null,
      "outputs": [
        {
          "output_type": "execute_result",
          "data": {
            "text/plain": [
              "200"
            ]
          },
          "metadata": {},
          "execution_count": 108
        }
      ]
    },
    {
      "cell_type": "code",
      "source": [
        "log_reg = LogisticRegression(penalty=None, max_iter=5000)\n",
        "log_reg.fit(X_train_norm[strong_feature_list], y_train)\n",
        "pred = log_reg.predict_proba(X_test_norm[strong_feature_list])[:,1]\n",
        "print(f'ROC-AUC: {roc_auc_score(y_test, pred)}')"
      ],
      "metadata": {
        "colab": {
          "base_uri": "https://localhost:8080/"
        },
        "id": "062u2VxdtOaF",
        "outputId": "4dea78bc-6eb0-4e93-fe82-e933adbf104b"
      },
      "execution_count": null,
      "outputs": [
        {
          "output_type": "stream",
          "name": "stdout",
          "text": [
            "ROC-AUC: 0.638092220243827\n"
          ]
        }
      ]
    },
    {
      "cell_type": "markdown",
      "source": [
        "*Качество выросло, но тоже слабо, ещё на 0.0001 по ROC-AUC*"
      ],
      "metadata": {
        "id": "VHA-jXJDvzWS"
      }
    },
    {
      "cell_type": "markdown",
      "metadata": {
        "id": "ThLJ-tvEJTmz"
      },
      "source": [
        "__Задание 10 (0.5 балла).__\n",
        "Можно задать отбор признаков более функционально. Вспомним, что L1-регуляризация также умеет отбирать признаки. Понятно, что теперь нам будет сложнее оставить именно 200 лучших признаков, но возможно они нам и не нужны. Подберите коэффициент регуляризации и проверьте, как изменилось качество. Получилось ли добиться лучшего качества при менее чем 200 признаках?"
      ]
    },
    {
      "cell_type": "code",
      "source": [
        "log_reg = LogisticRegression(penalty='l1', max_iter=200, C=0.01, solver='saga')\n",
        "log_reg.fit(X_train_norm, y_train)\n",
        "pred = log_reg.predict_proba(X_test_norm)[:,1]\n",
        "print(f'ROC-AUC: {roc_auc_score(y_test, pred)}')"
      ],
      "metadata": {
        "colab": {
          "base_uri": "https://localhost:8080/"
        },
        "id": "8Xl4CROau4Lr",
        "outputId": "9a91fb2b-abee-40f2-fe04-7f1298a9478e"
      },
      "execution_count": null,
      "outputs": [
        {
          "output_type": "stream",
          "name": "stdout",
          "text": [
            "ROC-AUC: 0.6384288197348855\n"
          ]
        }
      ]
    },
    {
      "cell_type": "code",
      "source": [
        "strong_feature_list = X_train_norm.columns[[coef!=0 for coef in log_reg.coef_[0]]]\n",
        "len(strong_feature_list)"
      ],
      "metadata": {
        "colab": {
          "base_uri": "https://localhost:8080/"
        },
        "id": "VG0zIB68zPFV",
        "outputId": "2b93d473-f216-468a-8e90-caa40b3b6c91"
      },
      "execution_count": null,
      "outputs": [
        {
          "output_type": "execute_result",
          "data": {
            "text/plain": [
              "129"
            ]
          },
          "metadata": {},
          "execution_count": 111
        }
      ]
    },
    {
      "cell_type": "code",
      "source": [
        "log_reg = LogisticRegression(penalty=None, max_iter=5000)\n",
        "log_reg.fit(X_train_norm[strong_feature_list], y_train)\n",
        "pred = log_reg.predict_proba(X_test_norm[strong_feature_list])[:,1]\n",
        "print(f'ROC-AUC: {roc_auc_score(y_test, pred)}')"
      ],
      "metadata": {
        "colab": {
          "base_uri": "https://localhost:8080/"
        },
        "id": "UXAZV2KUCJtt",
        "outputId": "6d6cbec6-db34-4b39-b874-ad71fd413920"
      },
      "execution_count": null,
      "outputs": [
        {
          "output_type": "stream",
          "name": "stdout",
          "text": [
            "ROC-AUC: 0.6375801182618771\n"
          ]
        }
      ]
    },
    {
      "cell_type": "code",
      "source": [
        "log_reg = LogisticRegression(penalty='l1', max_iter=200, C=0.001, solver='saga')\n",
        "log_reg.fit(X_train_norm, y_train)\n",
        "pred = log_reg.predict_proba(X_test_norm)[:,1]\n",
        "print(f'ROC-AUC: {roc_auc_score(y_test, pred)}')"
      ],
      "metadata": {
        "colab": {
          "base_uri": "https://localhost:8080/"
        },
        "id": "xpRVv5UukDP1",
        "outputId": "b305544d-44ec-47e5-c91e-677cbd9eefcc"
      },
      "execution_count": null,
      "outputs": [
        {
          "output_type": "stream",
          "name": "stdout",
          "text": [
            "ROC-AUC: 0.628911755933861\n"
          ]
        }
      ]
    },
    {
      "cell_type": "code",
      "source": [
        "strong_feature_list = X_train_norm.columns[[coef!=0 for coef in log_reg.coef_[0]]]\n",
        "len(strong_feature_list)"
      ],
      "metadata": {
        "colab": {
          "base_uri": "https://localhost:8080/"
        },
        "id": "g7jrr12ckDSU",
        "outputId": "ab65beda-cffb-421f-b577-2ac75426092e"
      },
      "execution_count": null,
      "outputs": [
        {
          "output_type": "execute_result",
          "data": {
            "text/plain": [
              "16"
            ]
          },
          "metadata": {},
          "execution_count": 114
        }
      ]
    },
    {
      "cell_type": "code",
      "source": [
        "log_reg = LogisticRegression(penalty=None, max_iter=5000)\n",
        "log_reg.fit(X_train_norm[strong_feature_list], y_train)\n",
        "pred = log_reg.predict_proba(X_test_norm[strong_feature_list])[:,1]\n",
        "print(f'ROC-AUC: {roc_auc_score(y_test, pred)}')"
      ],
      "metadata": {
        "colab": {
          "base_uri": "https://localhost:8080/"
        },
        "id": "jRkl51oRkDUW",
        "outputId": "69be7044-556f-4318-934e-034f9eff8d38"
      },
      "execution_count": null,
      "outputs": [
        {
          "output_type": "stream",
          "name": "stdout",
          "text": [
            "ROC-AUC: 0.6302621622596792\n"
          ]
        }
      ]
    },
    {
      "cell_type": "markdown",
      "source": [
        "*При переборе коэффициента регуляризации выяснилось, что при менее чем 200 признаках качество падает, значит всё таки какая-то полезная информация в отброшенных признаках содержится. Интересно, что при l1 регуляризации всего на 200 эпохах модель для отбора признаков показала заметно лучшее качество, значит для нашей задаче имело бы смысл использовать регуляризацию. Так же интересно, что модель не сильно хуже предсказывает всего и на 16 признаках, что существенно сокращает время обучения и расходы на память, следовательно так действительно можно выделять главные признаки.*"
      ],
      "metadata": {
        "id": "Z_peODWkCbwb"
      }
    },
    {
      "cell_type": "markdown",
      "metadata": {
        "id": "1CfAFhNvJTmz"
      },
      "source": [
        "### Методы фильтрации"
      ]
    },
    {
      "cell_type": "markdown",
      "metadata": {
        "id": "LQoRwN36JTmz"
      },
      "source": [
        "Давайте отбирать признаки умнее, а именно через подсчёт некоторой функции для каждого признака. На основании значений этой функции будем оставлять наиболее важные признаки. Методы этого семейства называют фильтрующими или  filter methods.\n",
        "\n",
        "В качестве такой функции будем считать t-статистику:\n",
        "\n",
        "$$t(x) = \\frac{|\\mu_+ - \\mu_-|}{\\sqrt{\\frac{n_+ \\sigma^2_+ + n_- \\sigma^2_-}{n_+ + n_-}}},$$\n",
        "\n",
        "где $mu$, $sigma$, $n$ соответственно среднее, среднеквадратичное отклонение и количество объектов каждого из классов.\n",
        "\n",
        "__Задание 11 (1 балл)__. Оставьте 200 признаков с наибольшим значением и замерьте качество. Не забудьте замерить скорость отбора признаков в этом случаев."
      ]
    },
    {
      "cell_type": "code",
      "execution_count": null,
      "metadata": {
        "id": "bUJctNxkJTm0"
      },
      "outputs": [],
      "source": [
        "def get_t(pos_array, neg_array):\n",
        "  return abs(pos_array.mean() - neg_array.mean())/(\n",
        "            np.sqrt((len(pos_array)*(np.std(pos_array)**2) + len(neg_array)*(np.std(neg_array)**2))/(\n",
        "                len(pos_array) + len(neg_array))))"
      ]
    },
    {
      "cell_type": "code",
      "source": [
        "%%time\n",
        "\n",
        "X_train_pos = X_train[y_train==1]\n",
        "X_train_neg = X_train[y_train==0]\n",
        "t_values = np.array([get_t(X_train_pos[col].values, X_train_neg[col].values) for col in X_train.columns])\n",
        "strong_feature_list = X_train.columns[[t_val>sorted(t_values, reverse=True)[200] for t_val in t_values]]\n",
        "len(strong_feature_list)"
      ],
      "metadata": {
        "colab": {
          "base_uri": "https://localhost:8080/"
        },
        "id": "fSNTPLckua0K",
        "outputId": "b05e174d-24fc-4602-b54a-3c828f8ed893"
      },
      "execution_count": null,
      "outputs": [
        {
          "output_type": "stream",
          "name": "stdout",
          "text": [
            "CPU times: user 692 ms, sys: 192 ms, total: 884 ms\n",
            "Wall time: 869 ms\n"
          ]
        },
        {
          "output_type": "execute_result",
          "data": {
            "text/plain": [
              "200"
            ]
          },
          "metadata": {},
          "execution_count": 117
        }
      ]
    },
    {
      "cell_type": "code",
      "source": [
        "log_reg = LogisticRegression(penalty=None, max_iter=5000)\n",
        "log_reg.fit(X_train[strong_feature_list], y_train)\n",
        "pred = log_reg.predict_proba(X_test[strong_feature_list])[:,1]\n",
        "print(f'ROC-AUC: {roc_auc_score(y_test, pred)}')"
      ],
      "metadata": {
        "colab": {
          "base_uri": "https://localhost:8080/"
        },
        "id": "yDzjaPljxix_",
        "outputId": "f702cfae-8005-4956-e2a3-4641e10f6bfd"
      },
      "execution_count": null,
      "outputs": [
        {
          "output_type": "stream",
          "name": "stdout",
          "text": [
            "ROC-AUC: 0.6380877801814991\n"
          ]
        }
      ]
    },
    {
      "cell_type": "markdown",
      "source": [
        "*Скорость такого отбора признаков гораздо выше, так как нам не нужно обучать никакую модель. При этом качество не упало по сравнению с отбором встроенными методами.*"
      ],
      "metadata": {
        "id": "gij8BINGy9a0"
      }
    },
    {
      "cell_type": "markdown",
      "metadata": {
        "id": "RxGqo_sDJTm0"
      },
      "source": [
        "### Методы-обёртки"
      ]
    },
    {
      "cell_type": "markdown",
      "metadata": {
        "id": "fWMP-ewyJTm0"
      },
      "source": [
        "__Задание 12 (бонус, 1 балл)__.\n",
        "\n",
        "\n",
        "Заключительный из рассматриваемых нами методов работает следующим образом: мы исключаем по очереди один из признаков и смотрим, как это влияет на качество. Удаляем признаки таким жадным способом, пока не достигнем некоторого критерия (количество признаков или ухудшением качества).\n",
        "\n",
        "Заметим, что нельзя оценивать качество по тестовой выборке, иначе мы можем переобучиться, как, например, при настройке гиперпараметров. Разделите выборку на 2 части, на одной из них обучайте модель без одного из признаков,  на второй части оценивайте качество. Исходную тестовую выборку стоит использовать только на финальной оценке качества.\n",
        "\n",
        "Сделайте одну итерацию и прикиньте, сколько времени займёт такой отбор признаков. Кажется, что чересчур. Давайте возьмём маленький сэмпл данных (например, в 10 тысяч объектов), что сильно уменьшит время итерации. Теперь это долго, но уже приемлимо.\n",
        "\n",
        "Если это всё ещё долго для вашего комьютера, можете попробовать брать не по одному признаку, а сразу по пять (и удалять сразу тоже по 5). Для этого перед каждой итерацией удаления делите заново все признаки на группы по 5 штук.\n",
        "\n",
        "Снова оставьте только 200 признаков и оцените качество на тестовой выборке. Сколько времени занял такой отбор признаков?"
      ]
    },
    {
      "cell_type": "code",
      "execution_count": null,
      "metadata": {
        "id": "kvkgu0awJTm0",
        "colab": {
          "base_uri": "https://localhost:8080/"
        },
        "outputId": "ddec48d0-abd9-41fc-9c1f-c6832236c8d5"
      },
      "outputs": [
        {
          "output_type": "stream",
          "name": "stdout",
          "text": [
            "Количество признаков: 213, метрика с ними: 0.5854068002644468\n"
          ]
        },
        {
          "output_type": "stream",
          "name": "stderr",
          "text": [
            "100%|██████████| 213/213 [00:39<00:00,  5.46it/s]\n"
          ]
        },
        {
          "output_type": "stream",
          "name": "stdout",
          "text": [
            "Количество признаков: 212, метрика с ними: 0.5963344257167433\n"
          ]
        },
        {
          "output_type": "stream",
          "name": "stderr",
          "text": [
            "100%|██████████| 212/212 [00:52<00:00,  4.00it/s]\n"
          ]
        },
        {
          "output_type": "stream",
          "name": "stdout",
          "text": [
            "Количество признаков: 211, метрика с ними: 0.6009827185418459\n"
          ]
        },
        {
          "output_type": "stream",
          "name": "stderr",
          "text": [
            "100%|██████████| 211/211 [00:44<00:00,  4.74it/s]\n"
          ]
        },
        {
          "output_type": "stream",
          "name": "stdout",
          "text": [
            "Количество признаков: 210, метрика с ними: 0.6032450185183869\n"
          ]
        },
        {
          "output_type": "stream",
          "name": "stderr",
          "text": [
            "100%|██████████| 210/210 [00:39<00:00,  5.38it/s]\n"
          ]
        },
        {
          "output_type": "stream",
          "name": "stdout",
          "text": [
            "Количество признаков: 209, метрика с ними: 0.6053204996054624\n"
          ]
        },
        {
          "output_type": "stream",
          "name": "stderr",
          "text": [
            "100%|██████████| 209/209 [00:42<00:00,  4.88it/s]\n"
          ]
        },
        {
          "output_type": "stream",
          "name": "stdout",
          "text": [
            "Количество признаков: 208, метрика с ними: 0.6057925229791499\n"
          ]
        },
        {
          "output_type": "stream",
          "name": "stderr",
          "text": [
            "100%|██████████| 208/208 [00:51<00:00,  4.03it/s]\n"
          ]
        },
        {
          "output_type": "stream",
          "name": "stdout",
          "text": [
            "Количество признаков: 207, метрика с ними: 0.6059722330828672\n"
          ]
        },
        {
          "output_type": "stream",
          "name": "stderr",
          "text": [
            "100%|██████████| 207/207 [00:50<00:00,  4.09it/s]\n"
          ]
        },
        {
          "output_type": "stream",
          "name": "stdout",
          "text": [
            "Количество признаков: 206, метрика с ними: 0.6061485309694251\n"
          ]
        },
        {
          "output_type": "stream",
          "name": "stderr",
          "text": [
            "100%|██████████| 206/206 [00:46<00:00,  4.40it/s]\n"
          ]
        },
        {
          "output_type": "stream",
          "name": "stdout",
          "text": [
            "Количество признаков: 205, метрика с ними: 0.6062989528758593\n"
          ]
        },
        {
          "output_type": "stream",
          "name": "stderr",
          "text": [
            "100%|██████████| 205/205 [00:42<00:00,  4.80it/s]\n"
          ]
        },
        {
          "output_type": "stream",
          "name": "stdout",
          "text": [
            "Количество признаков: 204, метрика с ними: 0.6063706094362022\n"
          ]
        },
        {
          "output_type": "stream",
          "name": "stderr",
          "text": [
            "100%|██████████| 204/204 [00:33<00:00,  6.05it/s]\n"
          ]
        },
        {
          "output_type": "stream",
          "name": "stdout",
          "text": [
            "Количество признаков: 203, метрика с ними: 0.6064573366223316\n"
          ]
        },
        {
          "output_type": "stream",
          "name": "stderr",
          "text": [
            "100%|██████████| 203/203 [00:44<00:00,  4.59it/s]\n"
          ]
        },
        {
          "output_type": "stream",
          "name": "stdout",
          "text": [
            "Количество признаков: 202, метрика с ними: 0.6065213156940663\n"
          ]
        },
        {
          "output_type": "stream",
          "name": "stderr",
          "text": [
            "100%|██████████| 202/202 [00:49<00:00,  4.11it/s]\n"
          ]
        },
        {
          "output_type": "stream",
          "name": "stdout",
          "text": [
            "Количество признаков: 201, метрика с ними: 0.6065665275714255\n"
          ]
        },
        {
          "output_type": "stream",
          "name": "stderr",
          "text": [
            "100%|██████████| 201/201 [00:38<00:00,  5.26it/s]\n"
          ]
        },
        {
          "output_type": "stream",
          "name": "stdout",
          "text": [
            "Количество признаков: 200, метрика с ними: 0.6066228291545521\n"
          ]
        },
        {
          "output_type": "stream",
          "name": "stderr",
          "text": [
            "100%|██████████| 200/200 [00:50<00:00,  3.95it/s]"
          ]
        },
        {
          "output_type": "stream",
          "name": "stdout",
          "text": [
            "Количество признаков: 199, метрика с ними: 0.6066597948404433\n",
            "Количество признаков: 200, метрика с ними: 0.6066228291545521\n",
            "CPU times: user 9min 54s, sys: 4min 9s, total: 14min 4s\n",
            "Wall time: 10min 28s\n"
          ]
        },
        {
          "output_type": "stream",
          "name": "stderr",
          "text": [
            "\n"
          ]
        }
      ],
      "source": [
        "%%time\n",
        "\n",
        "from tqdm import tqdm\n",
        "from warnings import simplefilter\n",
        "from sklearn.exceptions import ConvergenceWarning\n",
        "simplefilter(\"ignore\", category=ConvergenceWarning)\n",
        "\n",
        "#  Будем отбирать признаки по тренировочной выборке размером 10_000 и валидационной размером 10_000\n",
        "X_col_s = X_train.copy()\n",
        "X_col_s['target'] = y_train\n",
        "X_col_s, _ = train_test_split(X_col_s,\n",
        "                              train_size=20_000,\n",
        "                              stratify=X_col_s['target'].values,\n",
        "                              random_state=42)\n",
        "X_train_col_s, X_val_col_s, y_train_col_s, y_val_col_s = train_test_split(\n",
        "                                               X_col_s.drop('target', axis=1),\n",
        "                                               X_col_s['target'].values,\n",
        "                                               train_size=10_000,\n",
        "                                               stratify=X_col_s['target'].values,\n",
        "                                               random_state=42)\n",
        "\n",
        "cols = X_train_col_s.columns.tolist()\n",
        "log_reg = LogisticRegression(penalty=None, max_iter=20)\n",
        "log_reg.fit(X_train_col_s[cols], y_train_col_s)\n",
        "pred = log_reg.predict_proba(X_val_col_s[cols])[:,1]\n",
        "score = roc_auc_score(y_val_col_s, pred)\n",
        "print(f'Количество признаков: {len(cols)}, метрика с ними: {score}')\n",
        "for _ in range(len(cols)):  # отбрасываем признаки по одному\n",
        "  score_best = 0\n",
        "  cols_best = []\n",
        "  for i in tqdm(range(len(cols))):  # проходимся по всем признакам в поисках лучшего исключения\n",
        "    cols_new = cols[:i] + cols[i+1:]\n",
        "    log_reg = LogisticRegression(penalty=None, max_iter=20)\n",
        "    log_reg.fit(X_train_col_s[cols_new], y_train_col_s)\n",
        "    pred = log_reg.predict_proba(X_val_col_s[cols_new])[:,1]\n",
        "    score_new = roc_auc_score(y_val_col_s, pred)\n",
        "    if score_new>score_best:\n",
        "      score_best = score_new\n",
        "      cols_best = cols_new\n",
        "  print(f'Количество признаков: {len(cols_best)}, метрика с ними: {score_best}')\n",
        "  if score_best<=score or len(cols_best)<200:\n",
        "    break\n",
        "  else:\n",
        "    score = score_best\n",
        "    cols = cols_best\n",
        "strong_feature_list = cols.copy()\n",
        "print(f'Количество признаков: {len(strong_feature_list)}, метрика с ними: {score}')"
      ]
    },
    {
      "cell_type": "code",
      "source": [
        "log_reg = LogisticRegression(penalty=None, max_iter=5000)\n",
        "log_reg.fit(X_train[strong_feature_list], y_train)\n",
        "pred = log_reg.predict_proba(X_test[strong_feature_list])[:,1]\n",
        "print(f'ROC-AUC: {roc_auc_score(y_test, pred)}')"
      ],
      "metadata": {
        "colab": {
          "base_uri": "https://localhost:8080/"
        },
        "id": "0GSdu_Sx_Dod",
        "outputId": "2c34eb25-473a-4e22-ebaf-fe1da011e213"
      },
      "execution_count": null,
      "outputs": [
        {
          "output_type": "stream",
          "name": "stdout",
          "text": [
            "ROC-AUC: 0.6359851131185662\n"
          ]
        }
      ]
    },
    {
      "cell_type": "markdown",
      "source": [
        "*Жадный метод отбора признаков оказался самым долгим, при этом так как пришлось использовать всего 10_000 примеров из обучающей выборки, то результаты на тестовой выборке оказались не самыми лучшими*"
      ],
      "metadata": {
        "id": "t6PimecgLeoQ"
      }
    },
    {
      "cell_type": "markdown",
      "metadata": {
        "id": "EEmV7qhxJTm0"
      },
      "source": [
        "Опционально (это не оценивается) можете рассмотреть более интересные стратегии отбора, чем жадная. Например, генетические алгоритмы. Можно закодировать бинарным вектором, включаем мы или нет тот или иной признак в модель. А дальше генетическим алгоритмом оптимизировать этот вектор. Всё ещё не быстро, но точно быстрее жадного.\n"
      ]
    },
    {
      "cell_type": "markdown",
      "metadata": {
        "id": "80ZZ39mfJTm0"
      },
      "source": [
        "**Задание 13 (0.5 балла)** Давайте подведём итоги по отбору признаков. Назовите преимущества и недостатки каждого из методов. Какой метод привёл к наилучшему качеству? Если не делали бонус — сравните встроенный метод и метод фильтрации.\n",
        "\n",
        "**Ответ:** ..."
      ]
    },
    {
      "cell_type": "markdown",
      "source": [
        "*Было расмотрено 3 способа отбора признаков: встроенный метод, фильтр и жадный метод. Самым быстрым оказалось использование фильтра, так как мы не обучали никакую модель, самым долгим оказался жадный метод, он настолько требовательный к ресурсам, что пришлось урезать тренировочную выборку, и из-за этого конечный список признаков оказался не лучшим. Лучшим по качеству же оказался встроенный метод, где мы выбирали признаки с наибольшими коэффициентами по модулю из обученной логистической регрессии на нормализованных данных. Но по совокупности затраченного времени на отбор и конечного качества, лидером для этой задачи будет фильтр, так как качество отличается едва заметно, зато скорость на порядки. Но стоит понимать, что фильтрами резонно выбирать параметры для линейных моделей, а вот для нелинейных уже под вопросом.*"
      ],
      "metadata": {
        "id": "ZaMLENbSM5YX"
      }
    }
  ],
  "metadata": {
    "kernelspec": {
      "display_name": "Python 3",
      "language": "python",
      "name": "python3"
    },
    "language_info": {
      "codemirror_mode": {
        "name": "ipython",
        "version": 3
      },
      "file_extension": ".py",
      "mimetype": "text/x-python",
      "name": "python",
      "nbconvert_exporter": "python",
      "pygments_lexer": "ipython3",
      "version": "3.7.1"
    },
    "toc": {
      "base_numbering": 1,
      "nav_menu": {},
      "number_sections": true,
      "sideBar": true,
      "skip_h1_title": true,
      "title_cell": "Table of Contents",
      "title_sidebar": "Contents",
      "toc_cell": false,
      "toc_position": {},
      "toc_section_display": true,
      "toc_window_display": false
    },
    "varInspector": {
      "cols": {
        "lenName": 16,
        "lenType": 16,
        "lenVar": 40
      },
      "kernels_config": {
        "python": {
          "delete_cmd_postfix": "",
          "delete_cmd_prefix": "del ",
          "library": "var_list.py",
          "varRefreshCmd": "print(var_dic_list())"
        },
        "r": {
          "delete_cmd_postfix": ") ",
          "delete_cmd_prefix": "rm(",
          "library": "var_list.r",
          "varRefreshCmd": "cat(var_dic_list()) "
        }
      },
      "types_to_exclude": [
        "module",
        "function",
        "builtin_function_or_method",
        "instance",
        "_Feature"
      ],
      "window_display": false
    },
    "colab": {
      "provenance": []
    }
  },
  "nbformat": 4,
  "nbformat_minor": 0
}